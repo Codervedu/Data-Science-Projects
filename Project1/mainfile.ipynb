{
 "cells": [
  {
   "cell_type": "markdown",
   "id": "4908dc7d",
   "metadata": {},
   "source": [
    "# Project\n",
    "#Aim: Creating & Visualizing Neural Network for the given data. (Use python) \n",
    "#Note: download dataset using Kaggle. Keras, ANN visualizer, Graphviz libraries are required"
   ]
  },
  {
   "cell_type": "code",
   "execution_count": 1,
   "id": "bf78cfe6",
   "metadata": {},
   "outputs": [
    {
     "name": "stdout",
     "output_type": "stream",
     "text": [
      "Requirement already satisfied: keras-vis in c:\\users\\vedant\\anaconda3\\envs\\tf\\lib\\site-packages (0.4.1)\n",
      "Requirement already satisfied: h5py in c:\\users\\vedant\\anaconda3\\envs\\tf\\lib\\site-packages (from keras-vis) (3.7.0)\n",
      "Requirement already satisfied: keras in c:\\users\\vedant\\anaconda3\\envs\\tf\\lib\\site-packages (from keras-vis) (2.10.0)\n",
      "Requirement already satisfied: matplotlib in c:\\users\\vedant\\anaconda3\\envs\\tf\\lib\\site-packages (from keras-vis) (3.7.2)\n",
      "Requirement already satisfied: scikit-image in c:\\users\\vedant\\anaconda3\\envs\\tf\\lib\\site-packages (from keras-vis) (0.21.0)\n",
      "Requirement already satisfied: six in c:\\users\\vedant\\anaconda3\\envs\\tf\\lib\\site-packages (from keras-vis) (1.16.0)\n",
      "Requirement already satisfied: numpy>=1.14.5 in c:\\users\\vedant\\anaconda3\\envs\\tf\\lib\\site-packages (from h5py->keras-vis) (1.25.2)\n",
      "Requirement already satisfied: contourpy>=1.0.1 in c:\\users\\vedant\\anaconda3\\envs\\tf\\lib\\site-packages (from matplotlib->keras-vis) (1.1.0)\n",
      "Requirement already satisfied: cycler>=0.10 in c:\\users\\vedant\\anaconda3\\envs\\tf\\lib\\site-packages (from matplotlib->keras-vis) (0.11.0)\n",
      "Requirement already satisfied: fonttools>=4.22.0 in c:\\users\\vedant\\anaconda3\\envs\\tf\\lib\\site-packages (from matplotlib->keras-vis) (4.42.0)\n",
      "Requirement already satisfied: kiwisolver>=1.0.1 in c:\\users\\vedant\\anaconda3\\envs\\tf\\lib\\site-packages (from matplotlib->keras-vis) (1.4.4)\n",
      "Requirement already satisfied: packaging>=20.0 in c:\\users\\vedant\\anaconda3\\envs\\tf\\lib\\site-packages (from matplotlib->keras-vis) (23.0)\n",
      "Requirement already satisfied: pillow>=6.2.0 in c:\\users\\vedant\\anaconda3\\envs\\tf\\lib\\site-packages (from matplotlib->keras-vis) (10.0.0)\n",
      "Requirement already satisfied: pyparsing<3.1,>=2.3.1 in c:\\users\\vedant\\anaconda3\\envs\\tf\\lib\\site-packages (from matplotlib->keras-vis) (2.4.7)\n",
      "Requirement already satisfied: python-dateutil>=2.7 in c:\\users\\vedant\\anaconda3\\envs\\tf\\lib\\site-packages (from matplotlib->keras-vis) (2.8.2)\n",
      "Requirement already satisfied: scipy>=1.8 in c:\\users\\vedant\\anaconda3\\envs\\tf\\lib\\site-packages (from scikit-image->keras-vis) (1.10.1)\n",
      "Requirement already satisfied: networkx>=2.8 in c:\\users\\vedant\\anaconda3\\envs\\tf\\lib\\site-packages (from scikit-image->keras-vis) (3.1)\n",
      "Requirement already satisfied: imageio>=2.27 in c:\\users\\vedant\\anaconda3\\envs\\tf\\lib\\site-packages (from scikit-image->keras-vis) (2.31.1)\n",
      "Requirement already satisfied: tifffile>=2022.8.12 in c:\\users\\vedant\\anaconda3\\envs\\tf\\lib\\site-packages (from scikit-image->keras-vis) (2023.7.18)\n",
      "Requirement already satisfied: PyWavelets>=1.1.1 in c:\\users\\vedant\\anaconda3\\envs\\tf\\lib\\site-packages (from scikit-image->keras-vis) (1.4.1)\n",
      "Requirement already satisfied: lazy_loader>=0.2 in c:\\users\\vedant\\anaconda3\\envs\\tf\\lib\\site-packages (from scikit-image->keras-vis) (0.3)\n"
     ]
    }
   ],
   "source": [
    "!pip install keras-vis"
   ]
  },
  {
   "cell_type": "code",
   "execution_count": 2,
   "id": "e76cf478",
   "metadata": {},
   "outputs": [
    {
     "name": "stdout",
     "output_type": "stream",
     "text": [
      "Requirement already satisfied: numpy in c:\\users\\vedant\\anaconda3\\envs\\tf\\lib\\site-packages (1.25.2)\n",
      "Requirement already satisfied: pandas in c:\\users\\vedant\\anaconda3\\envs\\tf\\lib\\site-packages (1.5.3)\n",
      "Requirement already satisfied: python-dateutil>=2.8.1 in c:\\users\\vedant\\anaconda3\\envs\\tf\\lib\\site-packages (from pandas) (2.8.2)\n",
      "Requirement already satisfied: pytz>=2020.1 in c:\\users\\vedant\\anaconda3\\envs\\tf\\lib\\site-packages (from pandas) (2022.7)\n",
      "Requirement already satisfied: numpy>=1.21.0 in c:\\users\\vedant\\anaconda3\\envs\\tf\\lib\\site-packages (from pandas) (1.25.2)\n",
      "Requirement already satisfied: six>=1.5 in c:\\users\\vedant\\anaconda3\\envs\\tf\\lib\\site-packages (from python-dateutil>=2.8.1->pandas) (1.16.0)\n"
     ]
    }
   ],
   "source": [
    "!pip install numpy\n",
    "!pip install pandas"
   ]
  },
  {
   "cell_type": "code",
   "execution_count": 3,
   "id": "08e90104",
   "metadata": {},
   "outputs": [],
   "source": [
    "import numpy as np \n",
    "import pandas as pd"
   ]
  },
  {
   "cell_type": "code",
   "execution_count": 4,
   "id": "b8db11e6",
   "metadata": {},
   "outputs": [],
   "source": [
    "#load dataset \n",
    "df = pd.read_csv('pima-indians-diabetes.csv')"
   ]
  },
  {
   "cell_type": "code",
   "execution_count": 5,
   "id": "724f56ec",
   "metadata": {},
   "outputs": [],
   "source": [
    "import tensorflow as tf"
   ]
  },
  {
   "cell_type": "code",
   "execution_count": 6,
   "id": "ee24f9d4",
   "metadata": {},
   "outputs": [
    {
     "name": "stdout",
     "output_type": "stream",
     "text": [
      "3.10.12 | packaged by Anaconda, Inc. | (main, Jul  5 2023, 19:09:20) [MSC v.1916 64 bit (AMD64)]\n"
     ]
    }
   ],
   "source": [
    "import sys\n",
    "print(sys.version)\n"
   ]
  },
  {
   "cell_type": "code",
   "execution_count": 7,
   "id": "909f3b1c",
   "metadata": {},
   "outputs": [
    {
     "name": "stdout",
     "output_type": "stream",
     "text": [
      "Requirement already satisfied: matplotlib in c:\\users\\vedant\\anaconda3\\envs\\tf\\lib\\site-packages (3.7.2)\n",
      "Requirement already satisfied: contourpy>=1.0.1 in c:\\users\\vedant\\anaconda3\\envs\\tf\\lib\\site-packages (from matplotlib) (1.1.0)\n",
      "Requirement already satisfied: cycler>=0.10 in c:\\users\\vedant\\anaconda3\\envs\\tf\\lib\\site-packages (from matplotlib) (0.11.0)\n",
      "Requirement already satisfied: fonttools>=4.22.0 in c:\\users\\vedant\\anaconda3\\envs\\tf\\lib\\site-packages (from matplotlib) (4.42.0)\n",
      "Requirement already satisfied: kiwisolver>=1.0.1 in c:\\users\\vedant\\anaconda3\\envs\\tf\\lib\\site-packages (from matplotlib) (1.4.4)\n",
      "Requirement already satisfied: numpy>=1.20 in c:\\users\\vedant\\anaconda3\\envs\\tf\\lib\\site-packages (from matplotlib) (1.25.2)\n",
      "Requirement already satisfied: packaging>=20.0 in c:\\users\\vedant\\anaconda3\\envs\\tf\\lib\\site-packages (from matplotlib) (23.0)\n",
      "Requirement already satisfied: pillow>=6.2.0 in c:\\users\\vedant\\anaconda3\\envs\\tf\\lib\\site-packages (from matplotlib) (10.0.0)\n",
      "Requirement already satisfied: pyparsing<3.1,>=2.3.1 in c:\\users\\vedant\\anaconda3\\envs\\tf\\lib\\site-packages (from matplotlib) (2.4.7)\n",
      "Requirement already satisfied: python-dateutil>=2.7 in c:\\users\\vedant\\anaconda3\\envs\\tf\\lib\\site-packages (from matplotlib) (2.8.2)\n",
      "Requirement already satisfied: six>=1.5 in c:\\users\\vedant\\anaconda3\\envs\\tf\\lib\\site-packages (from python-dateutil>=2.7->matplotlib) (1.16.0)\n"
     ]
    }
   ],
   "source": [
    "!pip install matplotlib"
   ]
  },
  {
   "cell_type": "code",
   "execution_count": 8,
   "id": "36697721",
   "metadata": {},
   "outputs": [],
   "source": [
    "import matplotlib.pyplot as plt"
   ]
  },
  {
   "cell_type": "code",
   "execution_count": 9,
   "id": "c8645eb4",
   "metadata": {},
   "outputs": [],
   "source": [
    "from keras.models import Sequential\n",
    "from keras.layers import Dense"
   ]
  },
  {
   "cell_type": "code",
   "execution_count": 10,
   "id": "ab592b86",
   "metadata": {},
   "outputs": [],
   "source": [
    "# fix random seed for reproducibility\n",
    "np.random.seed(7)"
   ]
  },
  {
   "cell_type": "code",
   "execution_count": 11,
   "id": "f8d7493b",
   "metadata": {},
   "outputs": [],
   "source": [
    "# load pima indians dataset\n",
    "dataset = np.loadtxt('pima-indians-diabetes.csv', delimiter=\",\")"
   ]
  },
  {
   "cell_type": "code",
   "execution_count": 12,
   "id": "5e9b73fd",
   "metadata": {},
   "outputs": [],
   "source": [
    "# split into input (X) and output (Y) variables\n",
    "X = dataset[:,0:8]\n",
    "Y = dataset[:,8]"
   ]
  },
  {
   "cell_type": "code",
   "execution_count": 13,
   "id": "22169cab",
   "metadata": {},
   "outputs": [],
   "source": [
    "# create model\n",
    "model = Sequential()\n",
    "model.add(Dense(12, input_dim=8, activation='relu'))\n",
    "model.add(Dense(8, activation='relu'))\n",
    "model.add(Dense(1, activation='sigmoid'))"
   ]
  },
  {
   "cell_type": "code",
   "execution_count": 14,
   "id": "fb62fc02",
   "metadata": {},
   "outputs": [],
   "source": [
    "# Compile model\n",
    "model.compile(loss='binary_crossentropy', optimizer='adam', metrics=['accuracy'])"
   ]
  },
  {
   "cell_type": "code",
   "execution_count": 15,
   "id": "e5b63abf",
   "metadata": {},
   "outputs": [
    {
     "name": "stdout",
     "output_type": "stream",
     "text": [
      "Epoch 1/150\n",
      "77/77 [==============================] - 1s 2ms/step - loss: 11.3600 - accuracy: 0.6484\n",
      "Epoch 2/150\n",
      "77/77 [==============================] - 0s 4ms/step - loss: 4.4685 - accuracy: 0.5924\n",
      "Epoch 3/150\n",
      "77/77 [==============================] - 0s 4ms/step - loss: 1.3064 - accuracy: 0.5898\n",
      "Epoch 4/150\n",
      "77/77 [==============================] - 0s 3ms/step - loss: 1.0647 - accuracy: 0.6003\n",
      "Epoch 5/150\n",
      "77/77 [==============================] - 0s 5ms/step - loss: 0.9055 - accuracy: 0.5885\n",
      "Epoch 6/150\n",
      "77/77 [==============================] - 0s 3ms/step - loss: 0.8331 - accuracy: 0.6094\n",
      "Epoch 7/150\n",
      "77/77 [==============================] - 0s 3ms/step - loss: 0.7845 - accuracy: 0.6380\n",
      "Epoch 8/150\n",
      "77/77 [==============================] - 0s 3ms/step - loss: 0.7604 - accuracy: 0.6003\n",
      "Epoch 9/150\n",
      "77/77 [==============================] - 0s 3ms/step - loss: 0.7509 - accuracy: 0.6133\n",
      "Epoch 10/150\n",
      "77/77 [==============================] - 0s 3ms/step - loss: 0.7235 - accuracy: 0.6185\n",
      "Epoch 11/150\n",
      "77/77 [==============================] - 0s 3ms/step - loss: 0.6752 - accuracy: 0.6536\n",
      "Epoch 12/150\n",
      "77/77 [==============================] - 0s 4ms/step - loss: 0.6592 - accuracy: 0.6432\n",
      "Epoch 13/150\n",
      "77/77 [==============================] - 0s 3ms/step - loss: 0.6730 - accuracy: 0.6471\n",
      "Epoch 14/150\n",
      "77/77 [==============================] - 0s 3ms/step - loss: 0.6354 - accuracy: 0.6536\n",
      "Epoch 15/150\n",
      "77/77 [==============================] - 0s 3ms/step - loss: 0.6255 - accuracy: 0.6576\n",
      "Epoch 16/150\n",
      "77/77 [==============================] - 0s 4ms/step - loss: 0.6201 - accuracy: 0.6732\n",
      "Epoch 17/150\n",
      "77/77 [==============================] - 0s 6ms/step - loss: 0.6170 - accuracy: 0.6497\n",
      "Epoch 18/150\n",
      "77/77 [==============================] - 0s 4ms/step - loss: 0.6224 - accuracy: 0.6497\n",
      "Epoch 19/150\n",
      "77/77 [==============================] - 0s 3ms/step - loss: 0.5941 - accuracy: 0.6693\n",
      "Epoch 20/150\n",
      "77/77 [==============================] - 0s 3ms/step - loss: 0.5964 - accuracy: 0.6875\n",
      "Epoch 21/150\n",
      "77/77 [==============================] - 0s 3ms/step - loss: 0.6084 - accuracy: 0.6654\n",
      "Epoch 22/150\n",
      "77/77 [==============================] - 0s 3ms/step - loss: 0.5804 - accuracy: 0.6875\n",
      "Epoch 23/150\n",
      "77/77 [==============================] - 0s 3ms/step - loss: 0.6021 - accuracy: 0.6888\n",
      "Epoch 24/150\n",
      "77/77 [==============================] - 0s 5ms/step - loss: 0.5810 - accuracy: 0.6940\n",
      "Epoch 25/150\n",
      "77/77 [==============================] - 0s 5ms/step - loss: 0.5852 - accuracy: 0.6849\n",
      "Epoch 26/150\n",
      "77/77 [==============================] - 0s 6ms/step - loss: 0.5736 - accuracy: 0.7057\n",
      "Epoch 27/150\n",
      "77/77 [==============================] - 0s 4ms/step - loss: 0.5912 - accuracy: 0.7005\n",
      "Epoch 28/150\n",
      "77/77 [==============================] - 0s 5ms/step - loss: 0.5829 - accuracy: 0.7135\n",
      "Epoch 29/150\n",
      "77/77 [==============================] - 0s 3ms/step - loss: 0.5833 - accuracy: 0.6927\n",
      "Epoch 30/150\n",
      "77/77 [==============================] - 0s 4ms/step - loss: 0.5677 - accuracy: 0.7109\n",
      "Epoch 31/150\n",
      "77/77 [==============================] - 0s 4ms/step - loss: 0.5720 - accuracy: 0.7109\n",
      "Epoch 32/150\n",
      "77/77 [==============================] - 0s 3ms/step - loss: 0.5669 - accuracy: 0.7083\n",
      "Epoch 33/150\n",
      "77/77 [==============================] - 0s 5ms/step - loss: 0.5793 - accuracy: 0.7018\n",
      "Epoch 34/150\n",
      "77/77 [==============================] - 0s 3ms/step - loss: 0.5659 - accuracy: 0.7031\n",
      "Epoch 35/150\n",
      "77/77 [==============================] - 0s 3ms/step - loss: 0.5670 - accuracy: 0.7135\n",
      "Epoch 36/150\n",
      "77/77 [==============================] - 0s 3ms/step - loss: 0.5637 - accuracy: 0.6927\n",
      "Epoch 37/150\n",
      "77/77 [==============================] - 0s 5ms/step - loss: 0.5636 - accuracy: 0.7174\n",
      "Epoch 38/150\n",
      "77/77 [==============================] - 0s 3ms/step - loss: 0.5519 - accuracy: 0.7122\n",
      "Epoch 39/150\n",
      "77/77 [==============================] - 0s 3ms/step - loss: 0.5666 - accuracy: 0.6940\n",
      "Epoch 40/150\n",
      "77/77 [==============================] - 0s 6ms/step - loss: 0.5578 - accuracy: 0.7122\n",
      "Epoch 41/150\n",
      "77/77 [==============================] - 0s 4ms/step - loss: 0.5554 - accuracy: 0.7318\n",
      "Epoch 42/150\n",
      "77/77 [==============================] - 0s 4ms/step - loss: 0.5604 - accuracy: 0.7161\n",
      "Epoch 43/150\n",
      "77/77 [==============================] - 0s 4ms/step - loss: 0.5746 - accuracy: 0.6927\n",
      "Epoch 44/150\n",
      "77/77 [==============================] - 0s 4ms/step - loss: 0.5573 - accuracy: 0.7122\n",
      "Epoch 45/150\n",
      "77/77 [==============================] - 0s 5ms/step - loss: 0.5674 - accuracy: 0.7096\n",
      "Epoch 46/150\n",
      "77/77 [==============================] - 0s 4ms/step - loss: 0.5585 - accuracy: 0.7135\n",
      "Epoch 47/150\n",
      "77/77 [==============================] - 0s 5ms/step - loss: 0.5537 - accuracy: 0.7161\n",
      "Epoch 48/150\n",
      "77/77 [==============================] - 0s 4ms/step - loss: 0.5483 - accuracy: 0.7253\n",
      "Epoch 49/150\n",
      "77/77 [==============================] - 0s 5ms/step - loss: 0.5470 - accuracy: 0.7135\n",
      "Epoch 50/150\n",
      "77/77 [==============================] - 0s 3ms/step - loss: 0.5513 - accuracy: 0.7214\n",
      "Epoch 51/150\n",
      "77/77 [==============================] - 0s 5ms/step - loss: 0.5425 - accuracy: 0.7122\n",
      "Epoch 52/150\n",
      "77/77 [==============================] - 0s 3ms/step - loss: 0.5476 - accuracy: 0.7279\n",
      "Epoch 53/150\n",
      "77/77 [==============================] - 0s 3ms/step - loss: 0.5409 - accuracy: 0.7409\n",
      "Epoch 54/150\n",
      "77/77 [==============================] - 0s 4ms/step - loss: 0.5410 - accuracy: 0.7409\n",
      "Epoch 55/150\n",
      "77/77 [==============================] - 0s 3ms/step - loss: 0.5453 - accuracy: 0.7214\n",
      "Epoch 56/150\n",
      "77/77 [==============================] - 0s 4ms/step - loss: 0.5585 - accuracy: 0.7057\n",
      "Epoch 57/150\n",
      "77/77 [==============================] - 0s 4ms/step - loss: 0.5448 - accuracy: 0.7161\n",
      "Epoch 58/150\n",
      "77/77 [==============================] - 0s 5ms/step - loss: 0.5471 - accuracy: 0.7161\n",
      "Epoch 59/150\n",
      "77/77 [==============================] - 0s 4ms/step - loss: 0.5413 - accuracy: 0.7240\n",
      "Epoch 60/150\n",
      "77/77 [==============================] - 0s 4ms/step - loss: 0.5406 - accuracy: 0.7318\n",
      "Epoch 61/150\n",
      "77/77 [==============================] - 0s 4ms/step - loss: 0.5557 - accuracy: 0.7122\n",
      "Epoch 62/150\n",
      "77/77 [==============================] - 0s 3ms/step - loss: 0.5369 - accuracy: 0.7331\n",
      "Epoch 63/150\n",
      "77/77 [==============================] - 0s 3ms/step - loss: 0.5353 - accuracy: 0.7331\n",
      "Epoch 64/150\n",
      "77/77 [==============================] - 0s 3ms/step - loss: 0.5425 - accuracy: 0.7331\n",
      "Epoch 65/150\n",
      "77/77 [==============================] - 0s 3ms/step - loss: 0.5460 - accuracy: 0.7253\n",
      "Epoch 66/150\n",
      "77/77 [==============================] - 0s 3ms/step - loss: 0.5381 - accuracy: 0.7214\n",
      "Epoch 67/150\n",
      "77/77 [==============================] - 0s 4ms/step - loss: 0.5426 - accuracy: 0.7292\n",
      "Epoch 68/150\n",
      "77/77 [==============================] - 0s 3ms/step - loss: 0.5434 - accuracy: 0.7240\n",
      "Epoch 69/150\n",
      "77/77 [==============================] - 0s 3ms/step - loss: 0.5351 - accuracy: 0.7292\n",
      "Epoch 70/150\n",
      "77/77 [==============================] - 0s 3ms/step - loss: 0.5366 - accuracy: 0.7266\n",
      "Epoch 71/150\n",
      "77/77 [==============================] - 0s 3ms/step - loss: 0.5313 - accuracy: 0.7370\n",
      "Epoch 72/150\n",
      "77/77 [==============================] - 0s 3ms/step - loss: 0.5378 - accuracy: 0.7370\n",
      "Epoch 73/150\n",
      "77/77 [==============================] - 0s 3ms/step - loss: 0.5374 - accuracy: 0.7344\n",
      "Epoch 74/150\n",
      "77/77 [==============================] - 0s 3ms/step - loss: 0.5392 - accuracy: 0.7253\n",
      "Epoch 75/150\n",
      "77/77 [==============================] - 0s 3ms/step - loss: 0.5309 - accuracy: 0.7435\n",
      "Epoch 76/150\n",
      "77/77 [==============================] - 0s 3ms/step - loss: 0.5459 - accuracy: 0.7188\n",
      "Epoch 77/150\n",
      "77/77 [==============================] - 0s 3ms/step - loss: 0.5405 - accuracy: 0.7135\n",
      "Epoch 78/150\n",
      "77/77 [==============================] - 0s 3ms/step - loss: 0.5226 - accuracy: 0.7357\n",
      "Epoch 79/150\n",
      "77/77 [==============================] - 0s 4ms/step - loss: 0.5233 - accuracy: 0.7409\n",
      "Epoch 80/150\n",
      "77/77 [==============================] - 0s 3ms/step - loss: 0.5278 - accuracy: 0.7526\n",
      "Epoch 81/150\n",
      "77/77 [==============================] - 0s 3ms/step - loss: 0.5220 - accuracy: 0.7461\n",
      "Epoch 82/150\n",
      "77/77 [==============================] - 0s 3ms/step - loss: 0.5207 - accuracy: 0.7305\n",
      "Epoch 83/150\n"
     ]
    },
    {
     "name": "stdout",
     "output_type": "stream",
     "text": [
      "77/77 [==============================] - 0s 3ms/step - loss: 0.5324 - accuracy: 0.7318\n",
      "Epoch 84/150\n",
      "77/77 [==============================] - 0s 3ms/step - loss: 0.5298 - accuracy: 0.7331\n",
      "Epoch 85/150\n",
      "77/77 [==============================] - 0s 3ms/step - loss: 0.5202 - accuracy: 0.7487\n",
      "Epoch 86/150\n",
      "77/77 [==============================] - 0s 3ms/step - loss: 0.5263 - accuracy: 0.7318\n",
      "Epoch 87/150\n",
      "77/77 [==============================] - 0s 3ms/step - loss: 0.5302 - accuracy: 0.7409\n",
      "Epoch 88/150\n",
      "77/77 [==============================] - 0s 2ms/step - loss: 0.5292 - accuracy: 0.7318\n",
      "Epoch 89/150\n",
      "77/77 [==============================] - 0s 3ms/step - loss: 0.5256 - accuracy: 0.7214\n",
      "Epoch 90/150\n",
      "77/77 [==============================] - 0s 3ms/step - loss: 0.5242 - accuracy: 0.7396\n",
      "Epoch 91/150\n",
      "77/77 [==============================] - 0s 3ms/step - loss: 0.5248 - accuracy: 0.7344\n",
      "Epoch 92/150\n",
      "77/77 [==============================] - 0s 3ms/step - loss: 0.5185 - accuracy: 0.7396\n",
      "Epoch 93/150\n",
      "77/77 [==============================] - 0s 3ms/step - loss: 0.5251 - accuracy: 0.7409\n",
      "Epoch 94/150\n",
      "77/77 [==============================] - 0s 4ms/step - loss: 0.5399 - accuracy: 0.7357\n",
      "Epoch 95/150\n",
      "77/77 [==============================] - 0s 4ms/step - loss: 0.5174 - accuracy: 0.7370\n",
      "Epoch 96/150\n",
      "77/77 [==============================] - 0s 4ms/step - loss: 0.5426 - accuracy: 0.7292\n",
      "Epoch 97/150\n",
      "77/77 [==============================] - 0s 3ms/step - loss: 0.5260 - accuracy: 0.7370\n",
      "Epoch 98/150\n",
      "77/77 [==============================] - 0s 3ms/step - loss: 0.5174 - accuracy: 0.7383\n",
      "Epoch 99/150\n",
      "77/77 [==============================] - 0s 3ms/step - loss: 0.5273 - accuracy: 0.7266\n",
      "Epoch 100/150\n",
      "77/77 [==============================] - 0s 2ms/step - loss: 0.5209 - accuracy: 0.7461\n",
      "Epoch 101/150\n",
      "77/77 [==============================] - 0s 3ms/step - loss: 0.5192 - accuracy: 0.7461\n",
      "Epoch 102/150\n",
      "77/77 [==============================] - 0s 3ms/step - loss: 0.5130 - accuracy: 0.7461\n",
      "Epoch 103/150\n",
      "77/77 [==============================] - 0s 3ms/step - loss: 0.5099 - accuracy: 0.7474\n",
      "Epoch 104/150\n",
      "77/77 [==============================] - 0s 3ms/step - loss: 0.5137 - accuracy: 0.7383\n",
      "Epoch 105/150\n",
      "77/77 [==============================] - 0s 3ms/step - loss: 0.5165 - accuracy: 0.7474\n",
      "Epoch 106/150\n",
      "77/77 [==============================] - 0s 3ms/step - loss: 0.5172 - accuracy: 0.7422\n",
      "Epoch 107/150\n",
      "77/77 [==============================] - 0s 3ms/step - loss: 0.5153 - accuracy: 0.7435\n",
      "Epoch 108/150\n",
      "77/77 [==============================] - 0s 3ms/step - loss: 0.5124 - accuracy: 0.7344\n",
      "Epoch 109/150\n",
      "77/77 [==============================] - 0s 3ms/step - loss: 0.5180 - accuracy: 0.7565\n",
      "Epoch 110/150\n",
      "77/77 [==============================] - 0s 3ms/step - loss: 0.5077 - accuracy: 0.7565\n",
      "Epoch 111/150\n",
      "77/77 [==============================] - 0s 3ms/step - loss: 0.5151 - accuracy: 0.7344\n",
      "Epoch 112/150\n",
      "77/77 [==============================] - 0s 3ms/step - loss: 0.5024 - accuracy: 0.7591\n",
      "Epoch 113/150\n",
      "77/77 [==============================] - 0s 2ms/step - loss: 0.5087 - accuracy: 0.7435\n",
      "Epoch 114/150\n",
      "77/77 [==============================] - 0s 3ms/step - loss: 0.5079 - accuracy: 0.7396\n",
      "Epoch 115/150\n",
      "77/77 [==============================] - 0s 3ms/step - loss: 0.5111 - accuracy: 0.7422\n",
      "Epoch 116/150\n",
      "77/77 [==============================] - 0s 4ms/step - loss: 0.5071 - accuracy: 0.7383\n",
      "Epoch 117/150\n",
      "77/77 [==============================] - 0s 3ms/step - loss: 0.5111 - accuracy: 0.7318\n",
      "Epoch 118/150\n",
      "77/77 [==============================] - 0s 3ms/step - loss: 0.5152 - accuracy: 0.7474\n",
      "Epoch 119/150\n",
      "77/77 [==============================] - 0s 3ms/step - loss: 0.4973 - accuracy: 0.7578\n",
      "Epoch 120/150\n",
      "77/77 [==============================] - 0s 3ms/step - loss: 0.5045 - accuracy: 0.7513\n",
      "Epoch 121/150\n",
      "77/77 [==============================] - 0s 4ms/step - loss: 0.5009 - accuracy: 0.7656\n",
      "Epoch 122/150\n",
      "77/77 [==============================] - 0s 3ms/step - loss: 0.5025 - accuracy: 0.7617\n",
      "Epoch 123/150\n",
      "77/77 [==============================] - 0s 3ms/step - loss: 0.5003 - accuracy: 0.7513\n",
      "Epoch 124/150\n",
      "77/77 [==============================] - 0s 3ms/step - loss: 0.5069 - accuracy: 0.7461\n",
      "Epoch 125/150\n",
      "77/77 [==============================] - 0s 3ms/step - loss: 0.5086 - accuracy: 0.7461\n",
      "Epoch 126/150\n",
      "77/77 [==============================] - 0s 4ms/step - loss: 0.5036 - accuracy: 0.7539\n",
      "Epoch 127/150\n",
      "77/77 [==============================] - 0s 5ms/step - loss: 0.4995 - accuracy: 0.7552\n",
      "Epoch 128/150\n",
      "77/77 [==============================] - 0s 4ms/step - loss: 0.4998 - accuracy: 0.7539\n",
      "Epoch 129/150\n",
      "77/77 [==============================] - 0s 3ms/step - loss: 0.5014 - accuracy: 0.7552\n",
      "Epoch 130/150\n",
      "77/77 [==============================] - 0s 3ms/step - loss: 0.5126 - accuracy: 0.7474\n",
      "Epoch 131/150\n",
      "77/77 [==============================] - 0s 3ms/step - loss: 0.4898 - accuracy: 0.7617\n",
      "Epoch 132/150\n",
      "77/77 [==============================] - 0s 3ms/step - loss: 0.5021 - accuracy: 0.7487\n",
      "Epoch 133/150\n",
      "77/77 [==============================] - 0s 3ms/step - loss: 0.4963 - accuracy: 0.7565\n",
      "Epoch 134/150\n",
      "77/77 [==============================] - 0s 3ms/step - loss: 0.4957 - accuracy: 0.7695\n",
      "Epoch 135/150\n",
      "77/77 [==============================] - 0s 3ms/step - loss: 0.4963 - accuracy: 0.7500\n",
      "Epoch 136/150\n",
      "77/77 [==============================] - 0s 2ms/step - loss: 0.5043 - accuracy: 0.7656\n",
      "Epoch 137/150\n",
      "77/77 [==============================] - 0s 3ms/step - loss: 0.5040 - accuracy: 0.7435\n",
      "Epoch 138/150\n",
      "77/77 [==============================] - 0s 3ms/step - loss: 0.4967 - accuracy: 0.7695\n",
      "Epoch 139/150\n",
      "77/77 [==============================] - 0s 3ms/step - loss: 0.4888 - accuracy: 0.7669\n",
      "Epoch 140/150\n",
      "77/77 [==============================] - 0s 3ms/step - loss: 0.4969 - accuracy: 0.7617\n",
      "Epoch 141/150\n",
      "77/77 [==============================] - 0s 3ms/step - loss: 0.4864 - accuracy: 0.7461\n",
      "Epoch 142/150\n",
      "77/77 [==============================] - 0s 3ms/step - loss: 0.4862 - accuracy: 0.7643\n",
      "Epoch 143/150\n",
      "77/77 [==============================] - 0s 4ms/step - loss: 0.4859 - accuracy: 0.7708\n",
      "Epoch 144/150\n",
      "77/77 [==============================] - 0s 3ms/step - loss: 0.4832 - accuracy: 0.7656\n",
      "Epoch 145/150\n",
      "77/77 [==============================] - 0s 4ms/step - loss: 0.4925 - accuracy: 0.7500\n",
      "Epoch 146/150\n",
      "77/77 [==============================] - 0s 4ms/step - loss: 0.5087 - accuracy: 0.7526\n",
      "Epoch 147/150\n",
      "77/77 [==============================] - 0s 3ms/step - loss: 0.4877 - accuracy: 0.7721\n",
      "Epoch 148/150\n",
      "77/77 [==============================] - 0s 3ms/step - loss: 0.4808 - accuracy: 0.7656\n",
      "Epoch 149/150\n",
      "77/77 [==============================] - 0s 3ms/step - loss: 0.5114 - accuracy: 0.7513\n",
      "Epoch 150/150\n",
      "77/77 [==============================] - 0s 3ms/step - loss: 0.4878 - accuracy: 0.7695\n"
     ]
    },
    {
     "data": {
      "text/plain": [
       "<keras.callbacks.History at 0x1c25fa65150>"
      ]
     },
     "execution_count": 15,
     "metadata": {},
     "output_type": "execute_result"
    }
   ],
   "source": [
    "# Fit the model\n",
    "model.fit(X, Y, epochs=150, batch_size=10)"
   ]
  },
  {
   "cell_type": "code",
   "execution_count": 16,
   "id": "26862fef",
   "metadata": {},
   "outputs": [
    {
     "name": "stdout",
     "output_type": "stream",
     "text": [
      "24/24 [==============================] - 0s 2ms/step - loss: 0.4703 - accuracy: 0.7760\n",
      "\n",
      "accuracy: 77.60%\n"
     ]
    }
   ],
   "source": [
    "# evaluate the model\n",
    "scores = model.evaluate(X, Y)\n",
    "print(\"\\n%s: %.2f%%\" % (model.metrics_names[1], scores[1]*100))"
   ]
  },
  {
   "cell_type": "code",
   "execution_count": 17,
   "id": "0273587b",
   "metadata": {},
   "outputs": [
    {
     "name": "stdout",
     "output_type": "stream",
     "text": [
      "Requirement already satisfied: ann_visualizer in c:\\users\\vedant\\anaconda3\\envs\\tf\\lib\\site-packages (2.5)\n",
      "Requirement already satisfied: graphviz in c:\\users\\vedant\\anaconda3\\envs\\tf\\lib\\site-packages (0.20.1)\n"
     ]
    }
   ],
   "source": [
    "!pip install ann_visualizer\n",
    "!pip install graphviz"
   ]
  },
  {
   "cell_type": "code",
   "execution_count": 18,
   "id": "bfaeb5eb",
   "metadata": {},
   "outputs": [],
   "source": [
    "#Visualize the model \n",
    "#Results are stored in /content/sample_data folder with name network.gv.pdf\n",
    "from ann_visualizer.visualize import ann_viz;\n",
    "ann_viz(model, title=\"My first neural network\")"
   ]
  },
  {
   "cell_type": "code",
   "execution_count": null,
   "id": "7c077268",
   "metadata": {},
   "outputs": [],
   "source": []
  },
  {
   "cell_type": "code",
   "execution_count": null,
   "id": "2324a41d",
   "metadata": {},
   "outputs": [],
   "source": []
  }
 ],
 "metadata": {
  "kernelspec": {
   "display_name": "Python 3 (ipykernel)",
   "language": "python",
   "name": "python3"
  },
  "language_info": {
   "codemirror_mode": {
    "name": "ipython",
    "version": 3
   },
   "file_extension": ".py",
   "mimetype": "text/x-python",
   "name": "python",
   "nbconvert_exporter": "python",
   "pygments_lexer": "ipython3",
   "version": "3.10.12"
  }
 },
 "nbformat": 4,
 "nbformat_minor": 5
}
